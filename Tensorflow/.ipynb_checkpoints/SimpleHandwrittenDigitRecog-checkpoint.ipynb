{
 "cells": [
  {
   "cell_type": "code",
   "execution_count": 1,
   "metadata": {
    "collapsed": false
   },
   "outputs": [
    {
     "name": "stdout",
     "output_type": "stream",
     "text": [
      "Extracting MNIST_data\\train-images-idx3-ubyte.gz\n",
      "Extracting MNIST_data\\train-labels-idx1-ubyte.gz\n",
      "Extracting MNIST_data\\t10k-images-idx3-ubyte.gz\n",
      "Extracting MNIST_data\\t10k-labels-idx1-ubyte.gz\n"
     ]
    }
   ],
   "source": [
    "import tensorflow as tf\n",
    "import numpy as np\n",
    "import matplotlib.pyplot as plt\n",
    "from tensorflow.examples.tutorials.mnist import input_data\n",
    "# data\n",
    "mnist = input_data.read_data_sets('MNIST_data', one_hot=True)\n",
    "\n",
    "# assumes that input data is a row vector([1, 2, 3 ...])\n",
    "def add_layer(data_input, num_inputs, num_neurons, activation_function=None):\n",
    "    weights = tf.Variable(tf.random_normal([num_inputs, num_neurons])) \n",
    "    biases = tf.Variable(tf.random_normal([1, num_neurons]))\n",
    "    output = tf.add(tf.matmul(data_input, weights), biases)\n",
    "    if activation_function:\n",
    "        return activation_function(output)\n",
    "    return output"
   ]
  },
  {
   "cell_type": "code",
   "execution_count": 12,
   "metadata": {
    "collapsed": false
   },
   "outputs": [],
   "source": [
    "# define placeholder for the data\n",
    "X_input = tf.placeholder(tf.float32, [None, 784])\n",
    "Y_input = tf.placeholder(tf.float32, [None, 10])\n",
    "learning_rate = 0.01\n",
    "activation_function = tf.nn.softmax\n",
    "prediction = add_layer(X_input, 784, 10, activation_function)\n",
    "# using cross entropy loss\n",
    "loss = -1 * tf.reduce_sum(Y_input * tf.log(prediction), 1)\n",
    "train_func = tf.train.GradientDescentOptimizer(learning_rate).minimize(loss)"
   ]
  },
  {
   "cell_type": "code",
   "execution_count": 62,
   "metadata": {
    "collapsed": false
   },
   "outputs": [
    {
     "name": "stdout",
     "output_type": "stream",
     "text": [
      "0.0927\n",
      "0.3933\n",
      "0.489\n",
      "0.5179\n",
      "0.5305\n",
      "0.5386\n",
      "0.545\n",
      "0.551\n",
      "0.5557\n",
      "0.5588\n",
      "0.5612\n",
      "0.5637\n",
      "0.5663\n",
      "0.5681\n",
      "0.5698\n",
      "0.5713\n",
      "0.5728\n",
      "0.5744\n",
      "0.5749\n",
      "0.576\n"
     ]
    }
   ],
   "source": [
    "with tf.Session() as session:\n",
    "    init = tf.global_variables_initializer()\n",
    "    session.run(init)\n",
    "    batch_size = 100\n",
    "    iterations = 200\n",
    "    batch_input, batch_output = mnist.train.next_batch(batch_size=batch_size)\n",
    "    for iteration in range(iterations):\n",
    "        session.run(train_func, feed_dict={X_input: batch_input,\n",
    "                                           Y_input: batch_output})\n",
    "        if iteration % 10 == 0:\n",
    "            current_pred = session.run(prediction, feed_dict={\n",
    "                                                       X_input: mnist.test.images})\n",
    "            accuracy = tf.reduce_mean(tf.cast(tf.equal(\n",
    "                                tf.argmax(mnist.test.labels, 1),\n",
    "                                tf.argmax(current_pred, 1)), tf.float32))\n",
    "            print(session.run(accuracy))\n",
    "#             print(session.run(accuracy, feed_dict={X_input: batch_input,\n",
    "#                                                    Y_input: batch_output}))\n",
    "            "
   ]
  },
  {
   "cell_type": "code",
   "execution_count": 27,
   "metadata": {
    "collapsed": false
   },
   "outputs": [
    {
     "name": "stdout",
     "output_type": "stream",
     "text": [
      "[False False  True]\n"
     ]
    }
   ],
   "source": [
    "print(np.equal(np.array([5, 6, 8]), np.array([2, 1, 8])))"
   ]
  }
 ],
 "metadata": {
  "anaconda-cloud": {},
  "kernelspec": {
   "display_name": "Python [conda root]",
   "language": "python",
   "name": "conda-root-py"
  },
  "language_info": {
   "codemirror_mode": {
    "name": "ipython",
    "version": 3
   },
   "file_extension": ".py",
   "mimetype": "text/x-python",
   "name": "python",
   "nbconvert_exporter": "python",
   "pygments_lexer": "ipython3",
   "version": "3.5.2"
  }
 },
 "nbformat": 4,
 "nbformat_minor": 1
}
