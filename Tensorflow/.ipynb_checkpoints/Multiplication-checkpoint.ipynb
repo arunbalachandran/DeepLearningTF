{
 "cells": [
  {
   "cell_type": "code",
   "execution_count": 1,
   "metadata": {},
   "outputs": [
    {
     "name": "stdout",
     "output_type": "stream",
     "text": [
      "[[2 2]\n",
      " [1 1]]\n"
     ]
    }
   ],
   "source": [
    "import tensorflow as tf\n",
    "\n",
    "# directly running the code without defining the graph\n",
    "matrix_a = tf.constant([[1, 0], [0, 1]])\n",
    "matrix_b = tf.constant([[2, 2], [1, 1]])\n",
    "\n",
    "with tf.Session() as sess:\n",
    "    print(sess.run(tf.matmul(matrix_a, matrix_b)))"
   ]
  },
  {
   "cell_type": "code",
   "execution_count": 3,
   "metadata": {},
   "outputs": [
    {
     "name": "stdout",
     "output_type": "stream",
     "text": [
      "6\n"
     ]
    }
   ],
   "source": [
    "# now doing the same operations using placeholders for both the parameters and the functions\n",
    "a = tf.placeholder(tf.int16)\n",
    "b = tf.placeholder(tf.int16)\n",
    "# now define an addition function that takes 2 placeholders as input and multiplies them\n",
    "addition_fn = tf.multiply(a, b)\n",
    "\n",
    "# now call the run method of session\n",
    "# we pass the parameters via the feed_dict parameter\n",
    "# 3 operations will be run, the operations for setting the values of the numbers themselves and\n",
    "# the operation that sets the result\n",
    "with tf.Session() as sess:\n",
    "    print(sess.run(addition_fn, feed_dict={a: 2, b: 3}))"
   ]
  },
  {
   "cell_type": "code",
   "execution_count": null,
   "metadata": {},
   "outputs": [],
   "source": []
  }
 ],
 "metadata": {
  "kernelspec": {
   "display_name": "Python 3",
   "language": "python",
   "name": "python3"
  },
  "language_info": {
   "codemirror_mode": {
    "name": "ipython",
    "version": 3
   },
   "file_extension": ".py",
   "mimetype": "text/x-python",
   "name": "python",
   "nbconvert_exporter": "python",
   "pygments_lexer": "ipython3",
   "version": "3.6.3"
  }
 },
 "nbformat": 4,
 "nbformat_minor": 2
}
