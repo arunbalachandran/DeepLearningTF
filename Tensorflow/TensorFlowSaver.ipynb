{
 "cells": [
  {
   "cell_type": "code",
   "execution_count": 9,
   "metadata": {
    "collapsed": false
   },
   "outputs": [
    {
     "name": "stdout",
     "output_type": "stream",
     "text": [
      "Save path is my_test_model/saved_model.ckpt\n"
     ]
    }
   ],
   "source": [
    "import tensorflow as tf\n",
    "tf.reset_default_graph()\n",
    "\n",
    "weights = tf.Variable([[1, 2, 3], [4, 5, 6]], dtype=tf.float32, name='weights')\n",
    "biases = tf.Variable([[5, 6, 7], [7, 8, 9]], dtype=tf.float32, name='biases')\n",
    "init = tf.global_variables_initializer()\n",
    "save_mod = tf.train.Saver()\n",
    "with tf.Session() as session:\n",
    "    session.run(init)\n",
    "    save_path = save_mod.save(session, 'my_test_model/saved_model.ckpt')\n",
    "    print('Save path is', save_path)"
   ]
  },
  {
   "cell_type": "code",
   "execution_count": 11,
   "metadata": {
    "collapsed": false,
    "scrolled": false
   },
   "outputs": [
    {
     "name": "stdout",
     "output_type": "stream",
     "text": [
      "Weights are\n",
      "[[ 1.  2.  3.]\n",
      " [ 4.  5.  6.]]\n"
     ]
    }
   ],
   "source": [
    "tf.reset_default_graph()\n",
    "\n",
    "restored_weights = tf.Variable(tf.zeros([2, 3]), dtype=tf.float32, name='weights')\n",
    "restored_biases = tf.Variable(tf.zeros([2, 3]), dtype=tf.float32, name='biases')\n",
    "save_mod = tf.train.Saver()\n",
    "with tf.Session() as session:\n",
    "    save_mod.restore(session, 'my_test_model/saved_model.ckpt')\n",
    "    print('Weights are')\n",
    "    print(session.run(restored_weights))"
   ]
  }
 ],
 "metadata": {
  "kernelspec": {
   "display_name": "Python [conda root]",
   "language": "python",
   "name": "conda-root-py"
  },
  "language_info": {
   "codemirror_mode": {
    "name": "ipython",
    "version": 3
   },
   "file_extension": ".py",
   "mimetype": "text/x-python",
   "name": "python",
   "nbconvert_exporter": "python",
   "pygments_lexer": "ipython3",
   "version": "3.5.2"
  }
 },
 "nbformat": 4,
 "nbformat_minor": 1
}
